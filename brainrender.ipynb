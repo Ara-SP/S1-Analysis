{
 "cells": [
  {
   "cell_type": "code",
   "execution_count": 1,
   "id": "337b9ff0",
   "metadata": {},
   "outputs": [],
   "source": [
    "from vedo import embedWindow, Plotter, show \n",
    "embedWindow(None)"
   ]
  },
  {
   "cell_type": "code",
   "execution_count": 2,
   "id": "bc993d89",
   "metadata": {},
   "outputs": [],
   "source": [
    "from brainrender import Scene\n",
    "\n",
    "from rich import print\n",
    "from myterial import orange\n",
    "from pathlib import Path"
   ]
  },
  {
   "cell_type": "code",
   "execution_count": null,
   "id": "04f719da",
   "metadata": {},
   "outputs": [],
   "source": [
    "# Create a brainrender scene\n",
    "# scene = Scene(title=\"Injection in 2P11\")\n",
    "scene = Scene()\n",
    "\n",
    "# Add brain SCm\n",
    "scene.add_brain_region(\"SSp-ll4\", alpha=0.2)\n",
    "\n",
    "# Add from file\n",
    "scene.add(\"/Users/aspra/Desktop/brainreg_2P11/manual_segmentation/standard_space/regions/region_0.obj\", color=\"tomato\")\n",
    "\n",
    "# Render!\n",
    "scene.render()\n",
    "scene.save()"
   ]
  },
  {
   "cell_type": "code",
   "execution_count": null,
   "id": "92fa7ffb",
   "metadata": {},
   "outputs": [],
   "source": []
  }
 ],
 "metadata": {
  "kernelspec": {
   "display_name": "Python 3 (ipykernel)",
   "language": "python",
   "name": "python3"
  },
  "language_info": {
   "codemirror_mode": {
    "name": "ipython",
    "version": 3
   },
   "file_extension": ".py",
   "mimetype": "text/x-python",
   "name": "python",
   "nbconvert_exporter": "python",
   "pygments_lexer": "ipython3",
   "version": "3.7.2"
  }
 },
 "nbformat": 4,
 "nbformat_minor": 5
}
