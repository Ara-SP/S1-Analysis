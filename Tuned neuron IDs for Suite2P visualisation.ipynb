{
 "cells": [
  {
   "cell_type": "code",
   "execution_count": 1,
   "metadata": {},
   "outputs": [],
   "source": [
    "import numpy as np\n",
    "import matplotlib.pyplot as plt\n",
    "import pandas as pd\n",
    "import os"
   ]
  },
  {
   "cell_type": "code",
   "execution_count": 2,
   "metadata": {},
   "outputs": [
    {
     "name": "stdout",
     "output_type": "stream",
     "text": [
      "['tuned_maxis_99_long2P05_Ses01.csv', 'tuned_maxis_99_long2P05_Ses02.csv', 'tuned_maxis_99_long2P05_Ses03.csv', 'tuned_maxis_99_long2P05_Ses04.csv', 'tuned_maxis_99_long2P05_Ses06.csv', 'tuned_maxis_99_long2P05_Ses07.csv', 'tuned_maxis_99_long2P06_Ses01.csv', 'tuned_maxis_99_long2P06_Ses02.csv', 'tuned_maxis_99_long2P06_Ses03.csv', 'tuned_maxis_99_long2P06_Ses04.csv', 'tuned_maxis_99_long2P06_Ses05.csv', 'tuned_maxis_99_long2P06_Ses06.csv', 'tuned_maxis_99_long2P06_Ses07.csv', 'tuned_maxis_99_long2P07_CFA.csv', 'tuned_maxis_99_long2P07_Ses01.csv', 'tuned_maxis_99_long2P07_Ses02.csv', 'tuned_maxis_99_long2P07_Ses03.csv', 'tuned_maxis_99_long2P07_Ses04.csv', 'tuned_maxis_99_long2P07_Ses05.csv', 'tuned_maxis_99_long2P07_Ses06.csv', 'tuned_maxis_99_long2P07_Ses07.csv', 'tuned_maxis_99_long2P08_CFA.csv', 'tuned_maxis_99_long2P08_Ses01.csv', 'tuned_maxis_99_long2P08_Ses02.csv', 'tuned_maxis_99_long2P08_Ses03.csv', 'tuned_maxis_99_long2P08_Ses04.csv', 'tuned_maxis_99_long2P08_Ses05.csv', 'tuned_maxis_99_long2P08_Ses06.csv', 'tuned_maxis_99_long2P09_CFA.csv', 'tuned_maxis_99_long2P09_Ses01.csv', 'tuned_maxis_99_long2P09_Ses02.csv', 'tuned_maxis_99_long2P09_Ses03.csv', 'tuned_maxis_99_long2P09_Ses04.csv', 'tuned_maxis_99_long2P09_Ses05.csv', 'tuned_maxis_99_long2P10_CFA.csv', 'tuned_maxis_99_long2P10_Ses01.csv', 'tuned_maxis_99_long2P10_Ses02.csv', 'tuned_maxis_99_long2P10_Ses03.csv', 'tuned_maxis_99_long2P10_Ses04.csv', 'tuned_maxis_99_long2P10_Ses05.csv', 'tuned_maxis_99_long2P11_CFA.csv', 'tuned_maxis_99_long2P11_Ses01.csv', 'tuned_maxis_99_long2P11_Ses02.csv', 'tuned_maxis_99_long2P11_Ses03.csv', 'tuned_maxis_99_long2P11_Ses04.csv', 'tuned_maxis_99_long2P11_Ses05.csv', 'tuned_maxis_99_long2P11_Ses06.csv', '._tuned_maxis_99_long2P05_Ses01.csv', '._tuned_maxis_99_long2P07_Ses07.csv', '._tuned_maxis_99_long2P05_Ses06.csv']\n"
     ]
    }
   ],
   "source": [
    "input_path = '/Volumes/Behaviour/S1 2P Recordings for Suite2P'\n",
    "tuning_path = '/Volumes/Behaviour/S1 2P Neural Tuning/99th Percentile Long/99maxisLong' \n",
    "sessions = [session for session in os.listdir(tuning_path) if session.endswith('.csv')]\n",
    "stimuli = ['warm', 'hot', 'opto', 'off-target', 'von frey', 'pin-prick', 'approach', 'no stim']\n",
    "print(sessions)"
   ]
  },
  {
   "cell_type": "code",
   "execution_count": 17,
   "metadata": {},
   "outputs": [
    {
     "name": "stdout",
     "output_type": "stream",
     "text": [
      "Processing: /Volumes/Behaviour/S1 2P Recordings for Suite2P/2P06_Ses01/suite2p/plane0\n",
      "2P06_Ses01\n",
      "Processing: /Volumes/Behaviour/S1 2P Recordings for Suite2P/2P06_Ses02/suite2p/plane0\n",
      "2P06_Ses02\n",
      "Processing: /Volumes/Behaviour/S1 2P Recordings for Suite2P/2P06_Ses03/suite2p/plane0\n",
      "2P06_Ses03\n",
      "Processing: /Volumes/Behaviour/S1 2P Recordings for Suite2P/2P05_Ses04/suite2p/plane0\n",
      "2P05_Ses04\n",
      "Processing: /Volumes/Behaviour/S1 2P Recordings for Suite2P/2P06_Ses04/suite2p/plane0\n",
      "2P06_Ses04\n",
      "Processing: /Volumes/Behaviour/S1 2P Recordings for Suite2P/2P06_Ses05/suite2p/plane0\n",
      "2P06_Ses05\n",
      "Processing: /Volumes/Behaviour/S1 2P Recordings for Suite2P/2P05_Ses06/suite2p/plane0\n",
      "2P05_Ses06\n",
      "Processing: /Volumes/Behaviour/S1 2P Recordings for Suite2P/2P06_Ses06/suite2p/plane0\n",
      "2P06_Ses06\n",
      "Processing: /Volumes/Behaviour/S1 2P Recordings for Suite2P/2P05_Ses07/suite2p/plane0\n",
      "2P05_Ses07\n",
      "Processing: /Volumes/Behaviour/S1 2P Recordings for Suite2P/2P06_Ses07/suite2p/plane0\n",
      "2P06_Ses07\n",
      "Processing: /Volumes/Behaviour/S1 2P Recordings for Suite2P/2P07_Ses01/suite2p/plane0\n",
      "2P07_Ses01\n",
      "Processing: /Volumes/Behaviour/S1 2P Recordings for Suite2P/2P08_Ses01/suite2p/plane0\n",
      "2P08_Ses01\n",
      "Processing: /Volumes/Behaviour/S1 2P Recordings for Suite2P/2P07_Ses03/suite2p/plane0\n",
      "2P07_Ses03\n",
      "Processing: /Volumes/Behaviour/S1 2P Recordings for Suite2P/2P08_Ses02/suite2p/plane0\n",
      "2P08_Ses02\n",
      "Processing: /Volumes/Behaviour/S1 2P Recordings for Suite2P/2P07_Ses04/suite2p/plane0\n",
      "2P07_Ses04\n",
      "Processing: /Volumes/Behaviour/S1 2P Recordings for Suite2P/2P08_Ses03/suite2p/plane0\n",
      "2P08_Ses03\n",
      "Processing: /Volumes/Behaviour/S1 2P Recordings for Suite2P/2P07_Ses05/suite2p/plane0\n",
      "2P07_Ses05\n",
      "Processing: /Volumes/Behaviour/S1 2P Recordings for Suite2P/2P08_Ses04/suite2p/plane0\n",
      "2P08_Ses04\n",
      "Processing: /Volumes/Behaviour/S1 2P Recordings for Suite2P/2P07_Ses06/suite2p/plane0\n",
      "2P07_Ses06\n",
      "Processing: /Volumes/Behaviour/S1 2P Recordings for Suite2P/2P08_Ses05/suite2p/plane0\n",
      "2P08_Ses05\n",
      "Processing: /Volumes/Behaviour/S1 2P Recordings for Suite2P/2P07_Ses07/suite2p/plane0\n",
      "2P07_Ses07\n",
      "Processing: /Volumes/Behaviour/S1 2P Recordings for Suite2P/2P08_Ses06/suite2p/plane0\n",
      "2P08_Ses06\n",
      "Processing: /Volumes/Behaviour/S1 2P Recordings for Suite2P/2P07_CFA/suite2p/plane0\n",
      "2P07_CFA\n",
      "Processing: /Volumes/Behaviour/S1 2P Recordings for Suite2P/2P09_Ses01/suite2p/plane0\n",
      "2P09_Ses01\n",
      "Processing: /Volumes/Behaviour/S1 2P Recordings for Suite2P/2P08_CFA/suite2p/plane0\n",
      "2P08_CFA\n",
      "Processing: /Volumes/Behaviour/S1 2P Recordings for Suite2P/2P11_Ses01/suite2p/plane0\n",
      "2P11_Ses01\n",
      "Processing: /Volumes/Behaviour/S1 2P Recordings for Suite2P/2P10_Ses01/suite2p/plane0\n",
      "2P10_Ses01\n",
      "Processing: /Volumes/Behaviour/S1 2P Recordings for Suite2P/2P09_Ses02/suite2p/plane0\n",
      "2P09_Ses02\n",
      "Processing: /Volumes/Behaviour/S1 2P Recordings for Suite2P/2P10_Ses02/suite2p/plane0\n",
      "2P10_Ses02\n",
      "Processing: /Volumes/Behaviour/S1 2P Recordings for Suite2P/2P09_Ses04/suite2p/plane0\n",
      "2P09_Ses04\n",
      "Processing: /Volumes/Behaviour/S1 2P Recordings for Suite2P/2P11_Ses04/suite2p/plane0\n",
      "2P11_Ses04\n",
      "Processing: /Volumes/Behaviour/S1 2P Recordings for Suite2P/2P11_Ses05/suite2p/plane0\n",
      "2P11_Ses05\n",
      "Processing: /Volumes/Behaviour/S1 2P Recordings for Suite2P/2P10_CFA/suite2p/plane0\n",
      "2P10_CFA\n",
      "Processing: /Volumes/Behaviour/S1 2P Recordings for Suite2P/2P09_CFA/suite2p/plane0\n",
      "2P09_CFA\n",
      "Processing: /Volumes/Behaviour/S1 2P Recordings for Suite2P/2P11_Ses02/suite2p/plane0\n",
      "2P11_Ses02\n",
      "Processing: /Volumes/Behaviour/S1 2P Recordings for Suite2P/2P09_Ses03/suite2p/plane0\n",
      "2P09_Ses03\n",
      "Processing: /Volumes/Behaviour/S1 2P Recordings for Suite2P/2P10_Ses03/suite2p/plane0\n",
      "2P10_Ses03\n",
      "Processing: /Volumes/Behaviour/S1 2P Recordings for Suite2P/2P10_Ses04/suite2p/plane0\n",
      "2P10_Ses04\n",
      "Processing: /Volumes/Behaviour/S1 2P Recordings for Suite2P/2P09_Ses05/suite2p/plane0\n",
      "2P09_Ses05\n",
      "Processing: /Volumes/Behaviour/S1 2P Recordings for Suite2P/2P10_Ses05/suite2p/plane0\n",
      "2P10_Ses05\n",
      "Processing: /Volumes/Behaviour/S1 2P Recordings for Suite2P/2P11_Ses06/suite2p/plane0\n",
      "2P11_Ses06\n",
      "Processing: /Volumes/Behaviour/S1 2P Recordings for Suite2P/2P11_CFA/suite2p/plane0\n",
      "2P11_CFA\n",
      "Processing: /Volumes/Behaviour/S1 2P Recordings for Suite2P/2P05_Ses01/suite2p/plane0\n",
      "2P05_Ses01\n",
      "Processing: /Volumes/Behaviour/S1 2P Recordings for Suite2P/2P05_Ses02/suite2p/plane0\n",
      "2P05_Ses02\n",
      "Processing: /Volumes/Behaviour/S1 2P Recordings for Suite2P/2P07_Ses02/suite2p/plane0\n",
      "2P07_Ses02\n",
      "Processing: /Volumes/Behaviour/S1 2P Recordings for Suite2P/2P11_Ses03/suite2p/plane0\n",
      "2P11_Ses03\n",
      "Processing: /Volumes/Behaviour/S1 2P Recordings for Suite2P/2P05_Ses03/suite2p/plane0\n",
      "2P05_Ses03\n"
     ]
    }
   ],
   "source": [
    "directories = [x[0] for x in os.walk(input_path) if os.path.basename(x[0]) == 'plane0']\n",
    "\n",
    "for directory in directories:\n",
    "    print('Processing:', directory)\n",
    "    stop = False\n",
    "    meta = directory.split('/')  #directory.split('\\\\') \n",
    "    session_name = meta[4] #meta[3] \n",
    "    print(session_name)\n",
    "    \n",
    "    # load Suite2P outputs\n",
    "    iscell = np.load(os.path.join(directory,'iscell.npy'), allow_pickle=True)[:,0].astype(int)\n",
    "    long = np.zeros(len(iscell), dtype=int)\n",
    "    \n",
    "    # load tuned cells (99 percentile, long window)\n",
    "    maxima = pd.read_csv(os.path.join(tuning_path, 'tuned_maxis_99_long'+session_name+'.csv'))\n",
    "    maxima.set_index('trial', inplace=True)\n",
    "    all_active = maxima.columns\n",
    "    all_active = list(map(lambda x: x.split('_')[2], all_active))\n",
    "    \n",
    "    # get ids of all active cells\n",
    "    for a in all_active:\n",
    "        long[int(a)]=1\n",
    "    np.save(os.path.join(directory, '99long_active'),long)\n",
    "    \n",
    "#     # get ids of tuned cells by modality\n",
    "#     tuned_ids = pd.DataFrame()\n",
    "#     for s in stimuli:\n",
    "#         byStim = maxima.loc[maxima.index.str.contains(str(s))]\n",
    "#         tuned = byStim.replace(0, np.nan).dropna(how=\"all\", axis=1).columns.tolist()\n",
    "#         tuned = list(map(lambda x: x.split('_')[2], tuned))\n",
    "#         long = np.zeros(len(iscell), dtype=int)\n",
    "#         for i in tuned:\n",
    "#             long[int(i)]=1\n",
    "#         np.save(os.path.join(directory, '99long_'+s), long)\n",
    "        \n"
   ]
  },
  {
   "cell_type": "code",
   "execution_count": 19,
   "metadata": {},
   "outputs": [
    {
     "data": {
      "text/plain": [
       "(24, 557)"
      ]
     },
     "execution_count": 19,
     "metadata": {},
     "output_type": "execute_result"
    }
   ],
   "source": [
    "maxima.shape"
   ]
  },
  {
   "cell_type": "code",
   "execution_count": 20,
   "metadata": {},
   "outputs": [
    {
     "data": {
      "text/plain": [
       "(995,)"
      ]
     },
     "execution_count": 20,
     "metadata": {},
     "output_type": "execute_result"
    }
   ],
   "source": [
    "iscell.shape"
   ]
  },
  {
   "cell_type": "code",
   "execution_count": 21,
   "metadata": {},
   "outputs": [
    {
     "data": {
      "text/plain": [
       "(995,)"
      ]
     },
     "execution_count": 21,
     "metadata": {},
     "output_type": "execute_result"
    }
   ],
   "source": [
    "long.shape"
   ]
  },
  {
   "cell_type": "code",
   "execution_count": 22,
   "metadata": {},
   "outputs": [
    {
     "data": {
      "text/plain": [
       "array([1, 1, 0, 0, 0, 1, 1, 1, 1, 1, 1, 0, 1, 1, 0, 1, 1, 1, 1, 1, 1, 0,\n",
       "       1, 1, 1, 1, 1, 0, 1, 1, 1, 1, 1, 1, 0, 1, 0, 1, 0, 1, 1, 1, 1, 1,\n",
       "       1, 1, 1, 1, 1, 1, 0, 1, 1, 1, 0, 0, 1, 1, 1, 1, 1, 1, 1, 1, 1, 1,\n",
       "       1, 1, 0, 1, 0, 1, 1, 1, 1, 1, 1, 1, 1, 0, 1, 1, 0, 1, 1, 1, 0, 1,\n",
       "       1, 1, 1, 1, 1, 1, 1, 1, 1, 1, 1, 0, 1, 0, 1, 1, 1, 1, 1, 1, 0, 0,\n",
       "       1, 1, 1, 0, 1, 1, 1, 1, 1, 0, 1, 0, 1, 1, 1, 1, 1, 0, 1, 0, 1, 1,\n",
       "       1, 1, 1, 1, 1, 0, 1, 0, 1, 0, 1, 1, 1, 1, 1, 1, 1, 0, 1, 1, 0, 1,\n",
       "       0, 0, 1, 1, 1, 1, 1, 0, 1, 1, 1, 1, 1, 1, 1, 1, 1, 1, 1, 1, 1, 0,\n",
       "       1, 1, 0, 1, 1, 1, 1, 1, 0, 1, 1, 1, 0, 1, 1, 1, 1, 1, 1, 1, 1, 1,\n",
       "       1, 1, 1, 1, 0, 1, 1, 0, 1, 1, 0, 0, 1, 0, 1, 1, 1, 0, 1, 1, 0, 1,\n",
       "       0, 1, 0, 1, 1, 0, 0, 1, 1, 1, 1, 1, 0, 1, 0, 1, 1, 1, 1, 1, 1, 0,\n",
       "       0, 0, 1, 1, 0, 1, 1, 1, 1, 1, 0, 1, 1, 0, 1, 1, 1, 1, 1, 0, 1, 0,\n",
       "       0, 0, 0, 0, 1, 1, 1, 0, 1, 0, 1, 1, 0, 1, 1, 1, 1, 0, 1, 1, 1, 1,\n",
       "       1, 1, 1, 1, 1, 0, 0, 0, 0, 1, 0, 1, 1, 1, 1, 1, 1, 0, 0, 0, 1, 0,\n",
       "       1, 1, 1, 1, 0, 0, 1, 1, 1, 1, 0, 0, 1, 1, 1, 1, 0, 1, 0, 1, 1, 1,\n",
       "       1, 1, 0, 1, 0, 1, 0, 0, 0, 0, 0, 0, 1, 1, 0, 1, 1, 0, 1, 0, 1, 1,\n",
       "       0, 1, 0, 1, 1, 1, 1, 0, 1, 1, 1, 1, 0, 1, 0, 0, 0, 0, 0, 0, 0, 0,\n",
       "       1, 0, 1, 1, 1, 0, 1, 1, 1, 0, 1, 0, 1, 1, 0, 1, 0, 1, 1, 0, 1, 1,\n",
       "       0, 1, 1, 0, 1, 1, 1, 1, 0, 1, 1, 1, 0, 0, 0, 1, 1, 1, 1, 0, 1, 0,\n",
       "       1, 0, 0, 1, 0, 0, 0, 1, 1, 1, 0, 0, 1, 1, 1, 1, 1, 1, 0, 1, 1, 1,\n",
       "       1, 1, 1, 1, 0, 1, 1, 0, 1, 1, 0, 0, 0, 1, 1, 1, 1, 0, 0, 0, 1, 0,\n",
       "       0, 0, 0, 1, 1, 1, 1, 1, 0, 1, 0, 0, 1, 1, 1, 0, 0, 0, 1, 1, 1, 0,\n",
       "       0, 1, 1, 0, 0, 1, 1, 1, 0, 0, 0, 0, 1, 1, 0, 1, 1, 0, 1, 1, 1, 1,\n",
       "       1, 0, 1, 1, 0, 0, 1, 0, 1, 1, 0, 0, 1, 0, 0, 0, 1, 0, 0, 1, 1, 0,\n",
       "       1, 1, 1, 0, 0, 0, 0, 1, 0, 1, 0, 0, 1, 1, 0, 0, 1, 0, 0, 0, 0, 0,\n",
       "       1, 1, 1, 1, 0, 1, 1, 0, 1, 1, 1, 1, 1, 0, 1, 1, 0, 1, 1, 1, 1, 1,\n",
       "       0, 0, 0, 1, 0, 1, 1, 0, 0, 0, 1, 1, 1, 1, 1, 1, 0, 1, 1, 1, 1, 1,\n",
       "       1, 0, 0, 0, 0, 0, 1, 1, 0, 0, 0, 0, 0, 0, 0, 0, 1, 1, 1, 1, 0, 0,\n",
       "       0, 0, 1, 0, 0, 0, 1, 1, 1, 0, 0, 0, 1, 1, 1, 1, 0, 1, 0, 0, 1, 0,\n",
       "       1, 0, 1, 1, 1, 0, 1, 0, 1, 1, 0, 1, 1, 0, 0, 1, 0, 1, 1, 1, 1, 0,\n",
       "       0, 1, 1, 1, 1, 1, 1, 0, 1, 0, 0, 0, 0, 0, 1, 0, 1, 0, 0, 0, 0, 0,\n",
       "       1, 1, 1, 0, 0, 1, 0, 0, 1, 0, 0, 0, 0, 0, 0, 0, 1, 0, 0, 1, 0, 0,\n",
       "       0, 0, 0, 0, 1, 0, 0, 1, 1, 1, 1, 0, 0, 0, 1, 0, 1, 1, 0, 1, 1, 1,\n",
       "       0, 0, 0, 0, 0, 0, 1, 1, 1, 0, 0, 1, 0, 1, 0, 1, 0, 0, 0, 0, 0, 0,\n",
       "       0, 1, 0, 0, 0, 0, 0, 0, 0, 0, 0, 0, 0, 0, 0, 0, 1, 1, 1, 1, 0, 0,\n",
       "       0, 0, 1, 0, 0, 1, 1, 1, 0, 1, 1, 0, 0, 0, 1, 1, 0, 1, 0, 0, 0, 0,\n",
       "       0, 1, 0, 0, 0, 0, 1, 0, 1, 1, 1, 0, 0, 1, 0, 1, 0, 0, 1, 0, 1, 1,\n",
       "       0, 1, 1, 1, 0, 0, 1, 0, 1, 0, 0, 0, 0, 0, 0, 1, 0, 1, 1, 0, 0, 1,\n",
       "       0, 0, 0, 1, 0, 1, 1, 0, 1, 1, 0, 1, 0, 0, 0, 1, 0, 0, 0, 0, 0, 1,\n",
       "       1, 0, 0, 1, 1, 0, 0, 0, 1, 1, 1, 1, 1, 1, 1, 0, 0, 0, 0, 1, 1, 0,\n",
       "       0, 0, 1, 0, 1, 0, 0, 1, 0, 0, 0, 0, 0, 0, 1, 1, 0, 0, 0, 1, 1, 1,\n",
       "       1, 0, 0, 0, 1, 0, 1, 0, 0, 0, 0, 1, 0, 1, 0, 0, 0, 1, 1, 1, 0, 0,\n",
       "       0, 0, 1, 0, 1, 0, 1, 0, 0, 1, 1, 0, 0, 0, 0, 0, 1, 1, 1, 0, 1, 0,\n",
       "       1, 1, 0, 0, 1, 0, 1, 0, 0, 0, 0, 1, 0, 1, 0, 0, 1, 0, 1, 1, 0, 1,\n",
       "       1, 1, 0, 0, 0, 1, 0, 0, 1, 0, 0, 0, 0, 1, 0, 0, 0, 0, 0, 0, 1, 0,\n",
       "       0, 0, 0, 0, 0])"
      ]
     },
     "execution_count": 22,
     "metadata": {},
     "output_type": "execute_result"
    }
   ],
   "source": [
    "long"
   ]
  },
  {
   "cell_type": "code",
   "execution_count": null,
   "metadata": {},
   "outputs": [],
   "source": []
  }
 ],
 "metadata": {
  "kernelspec": {
   "display_name": "Python 3 (ipykernel)",
   "language": "python",
   "name": "python3"
  },
  "language_info": {
   "codemirror_mode": {
    "name": "ipython",
    "version": 3
   },
   "file_extension": ".py",
   "mimetype": "text/x-python",
   "name": "python",
   "nbconvert_exporter": "python",
   "pygments_lexer": "ipython3",
   "version": "3.7.2"
  }
 },
 "nbformat": 4,
 "nbformat_minor": 4
}
